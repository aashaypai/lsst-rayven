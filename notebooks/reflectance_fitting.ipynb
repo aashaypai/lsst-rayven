{
 "cells": [
  {
   "cell_type": "code",
   "execution_count": null,
   "id": "a13d7b14-ff02-4063-8c35-23c120b96f67",
   "metadata": {
    "execution": {
     "iopub.execute_input": "2025-06-11T12:10:51.338574Z",
     "iopub.status.busy": "2025-06-11T12:10:51.338433Z"
    }
   },
   "outputs": [],
   "source": [
    "%load_ext autoreload\n",
    "%autoreload 2\n",
    "\n",
    "import numpy as np\n",
    "import matplotlib.pyplot as plt\n",
    "import astropy.units as u\n",
    "from astropy.table import QTable\n",
    "\n",
    "import rayven as rv\n",
    "# print(dir(rv))\n",
    "# print(rv.__path__)"
   ]
  },
  {
   "cell_type": "markdown",
   "id": "b61849d6-fb65-4e81-835a-6ef528e67a22",
   "metadata": {},
   "source": [
    "# Simulating a star in the center of the FoV"
   ]
  },
  {
   "cell_type": "code",
   "execution_count": null,
   "id": "3fb85a95-524c-455b-8dd2-3b780673a0d9",
   "metadata": {
    "scrolled": true
   },
   "outputs": [],
   "source": [
    "fstar = 1e12\n",
    "\n",
    "## make a star of flux 1e12 counts \n",
    "bsc_tab = QTable(data=[[0], [0], [fstar], [-2.5*np.log10(fstar)+30]], \n",
    "                 names=['ra', 'dec', 'flux', 'mag'])\n",
    "\n",
    "## place the star at the center of the FoV (fa_x, fa_y) = 0. fa_x, fa_y are field angles in radians.\n",
    "transf_tab = QTable(data=[[0], [0], [0], [0]], \n",
    "                    names=['ra', 'dec', 'fa_x', 'fa_y'])\n",
    "\n",
    "## set all the reflectances to be 2%\n",
    "reflectance = rv.Reflectance(fil=0.02, det=0.02, L3=0.02, L2=0.02, L1=0.02, band='r')\n",
    "\n",
    "## initialize a GhostTool object with (ra, dec, band, zeropoint) that do not really matter here,\n",
    "## bright star catalog with the made-up star, \n",
    "## coordinate transform table with the location of the star on the FoV,\n",
    "## reflectances of the optics of the telescope (2%)\n",
    "gt = rv.GhostTool(\n",
    "    ra=0, dec=0, band='r', zeropoint=30,\n",
    "    reflectance=reflectance,\n",
    "    bright_star_table=bsc_tab, \n",
    "    coord_transform_table=transf_tab\n",
    ")"
   ]
  },
  {
   "cell_type": "code",
   "execution_count": null,
   "id": "123b2d35-cd09-4e34-b40c-697276608c08",
   "metadata": {},
   "outputs": [],
   "source": [
    "field_ghost_set = gt.batoid_simulator.simulate_fov()"
   ]
  },
  {
   "cell_type": "code",
   "execution_count": null,
   "id": "b974c8c1-2afa-4a50-a47b-a9564184b296",
   "metadata": {
    "scrolled": true
   },
   "outputs": [],
   "source": [
    "f_g = []\n",
    "for ghost in field_ghost_set[0].ghosts:\n",
    "\n",
    "    ## 10 brightest ghosts\n",
    "    if ghost.name in ['F2-F1', 'L32-F1', 'L32-F2', 'L31-F1', 'L31-F2',\n",
    "                      'L32-L31', 'D-F1', 'D-F2', 'D-L32', 'D-L31']:\n",
    "\n",
    "        ## get flux of each ghost\n",
    "        f_g.append(np.sum(ghost.flux))\n",
    "\n",
    "        ## visualization\n",
    "        if ghost.name in ['F2-F1', 'L32-F1', 'D-F1']:\n",
    "            fig, ax = plt.subplots()\n",
    "\n",
    "            ax.imshow(ghost.bin(1000), cmap='inferno')\n",
    "            ax.scatter(499, 499, marker='*', c='r', s=25)\n",
    "            ax.set_title(ghost.name)\n",
    "            ax.text(0.02, 0.9, f'x dia: {ghost.x_size:.2f} mm \\n y dia: {ghost.y_size:.2f} mm',\n",
    "                    transform=ax.transAxes, bbox=dict(facecolor='white'))\n",
    "    \n",
    "            ax.text(0.97, 0.95, f'flux frac: {100*np.sum(ghost.flux)/field_ghost_set[0].total_flux:.2f}%',\n",
    "                    ha='right', transform=ax.transAxes, bbox=dict(facecolor='white'))\n",
    "            ax.set_axis_off()"
   ]
  },
  {
   "cell_type": "markdown",
   "id": "7bab5426-0db3-4009-a929-5bc416c20641",
   "metadata": {},
   "source": [
    "## Using least squares to solve for the reflectances"
   ]
  },
  {
   "cell_type": "markdown",
   "id": "ea8e9e31-eb65-43ee-8227-236dfe3be80a",
   "metadata": {},
   "source": [
    "We are solving the matrix equation:\n",
    "\n",
    "$$ M \\log{\\vec{r}} = \\log{\\vec{\\frac{f_g}{f_*}}}$$\n",
    "\n",
    "Here, $\\vec{r}$ contains the reflectances that we want to solve for:\n",
    "\\begin{bmatrix}\n",
    "R_{\\rm F1} \\\\\n",
    "R_{\\rm F2} \\\\\n",
    "R_{\\rm L32} \\\\\n",
    "R_{\\rm L31}\\\\\n",
    "R_{\\rm D}\n",
    "\\end{bmatrix}\n",
    "\n",
    "and $\\vec{f_g}$ contains the fluxes of the ghosts:\n",
    "\\begin{bmatrix}\n",
    "f_{\\rm F2-F1} \\\\\n",
    "f_{\\rm L32-F1} \\\\\n",
    "f_{\\rm L32-F2} \\\\\n",
    "f_{\\rm L31-F1}\\\\\n",
    "f_{\\rm L31-F2} \\\\\n",
    "f_{\\rm L32-L31} \\\\\n",
    "f_{\\rm D-F1} \\\\\n",
    "f_{\\rm D-F2} \\\\\n",
    "f_{\\rm D-L31} \\\\\n",
    "f_{\\rm D-L32} \n",
    "\\end{bmatrix}"
   ]
  },
  {
   "cell_type": "code",
   "execution_count": null,
   "id": "e428eaf3-7f6b-4385-809d-74d4917f33aa",
   "metadata": {},
   "outputs": [],
   "source": [
    "log_fg_by_fstar = np.log(np.array(f_g)/fstar)\n",
    "M = np.array([[1, 1, 0, 0, 0],\n",
    "              [1, 0, 1, 0, 0],\n",
    "              [0, 1, 1, 0, 0],\n",
    "              [1, 0, 0, 1, 0],\n",
    "              [0, 1, 0, 1, 0],\n",
    "              [0, 0, 1, 1, 0],\n",
    "              [1, 0, 0, 0, 1], \n",
    "              [0, 1, 0, 0, 1], \n",
    "              [0, 0, 0, 1, 1],\n",
    "              [0, 0, 1, 0, 1]])"
   ]
  },
  {
   "cell_type": "code",
   "execution_count": null,
   "id": "bcdb5bc1-7a8b-4267-86e0-f4ff054894f5",
   "metadata": {},
   "outputs": [],
   "source": [
    "r, residuals, rank, s = np.linalg.lstsq(M, log_fg_by_fstar, rcond=-1)\n",
    "print(f'The estimated reflectances are:')\n",
    "\n",
    "for i, label in enumerate(['F1', 'F2', 'L32', 'L31', 'D']):\n",
    "    print(f'{label:<4}: {100*np.exp(r[i]):.2f}%')"
   ]
  },
  {
   "cell_type": "markdown",
   "id": "aece6b5d-7520-42ed-b12c-4db7d7ce3fd0",
   "metadata": {},
   "source": [
    "# Simulating a star at the edge of the FoV"
   ]
  },
  {
   "cell_type": "code",
   "execution_count": null,
   "id": "f8cba3ff-3e32-401f-a1da-490013fa2089",
   "metadata": {},
   "outputs": [],
   "source": [
    "fstar = 1e12\n",
    "\n",
    "bsc_tab = QTable(data=[[0], [0], [fstar], [-2.5*np.log10(fstar)+30]], \n",
    "                 names=['ra', 'dec', 'flux', 'mag'])\n",
    "\n",
    "transf_tab = QTable(data=[[0], [0], [-0.03], [0]],  # 0.03 rad ~ 1.7 deg off the boresight\n",
    "                    names=['ra', 'dec', 'fa_x', 'fa_y'])\n",
    "\n",
    "reflectance = rv.Reflectance(fil=0.02, det=0.02, L3=0.02, L2=0.02, L1=0.02, band='r')\n",
    "\n",
    "gt = rv.GhostTool(\n",
    "    ra=0, dec=0, band='r', zeropoint=30,\n",
    "    reflectance=reflectance,\n",
    "    bright_star_table=bsc_tab, \n",
    "    coord_transform_table=transf_tab\n",
    ")\n",
    "\n",
    "field_ghost_set = gt.batoid_simulator.simulate_fov()"
   ]
  },
  {
   "cell_type": "code",
   "execution_count": null,
   "id": "c0e80cfe-ad6a-46bb-b7c6-7ea45b785c5f",
   "metadata": {},
   "outputs": [],
   "source": [
    "f_g = []\n",
    "for ghost in field_ghost_set[0].ghosts:\n",
    "    if ghost.name in ['F2-F1', 'L32-F1', 'L32-F2', 'L31-F1', 'L31-F2',\n",
    "                      'L32-L31', 'D-F1', 'D-F2', 'D-L32', 'D-L31']:\n",
    "        f_g.append(np.sum(ghost.flux))\n",
    "\n",
    "        ## visualization\n",
    "        if ghost.name in ['F2-F1', 'L32-F1', 'D-F1']:\n",
    "            fig, ax = plt.subplots()\n",
    "\n",
    "            ax.imshow(ghost.bin(1000), cmap='inferno')\n",
    "            ax.scatter(5, 499, marker='*', c='r', s=25)\n",
    "            ax.set_title(ghost.name)\n",
    "            ax.text(0.02, 0.9, f'x dia: {ghost.x_size:.2f} mm \\n y dia: {ghost.y_size:.2f} mm',\n",
    "                    transform=ax.transAxes, bbox=dict(facecolor='white'))\n",
    "    \n",
    "            ax.text(0.97, 0.95, f'flux frac: {100*np.sum(ghost.flux)/field_ghost_set[0].total_flux:.2f}%',\n",
    "                    ha='right', transform=ax.transAxes, bbox=dict(facecolor='white'))\n",
    "            ax.set_axis_off()"
   ]
  },
  {
   "cell_type": "code",
   "execution_count": null,
   "id": "41f4dd97-2f3e-4d71-baa5-87b8eebfccd6",
   "metadata": {},
   "outputs": [],
   "source": [
    "log_fg_by_fstar = np.log(np.array(f_g)/fstar)\n",
    "r, residuals, rank, s = np.linalg.lstsq(M, log_fg_by_fstar, rcond=-1)\n",
    "\n",
    "print(f'The estimated reflectances are:')\n",
    "\n",
    "for i, label in enumerate(['F1', 'F2', 'L32', 'L31', 'D']):\n",
    "    print(f'{label:<4}: {100*np.exp(r[i]):.2f}%')"
   ]
  }
 ],
 "metadata": {
  "kernelspec": {
   "display_name": "LSST",
   "language": "python",
   "name": "lsst"
  },
  "language_info": {
   "codemirror_mode": {
    "name": "ipython",
    "version": 3
   },
   "file_extension": ".py",
   "mimetype": "text/x-python",
   "name": "python",
   "nbconvert_exporter": "python",
   "pygments_lexer": "ipython3",
   "version": "3.12.10"
  }
 },
 "nbformat": 4,
 "nbformat_minor": 5
}
